{
 "cells": [
  {
   "cell_type": "markdown",
   "id": "8f528877",
   "metadata": {},
   "source": [
    "# Repositorio\n",
    "\n",
    "El archivo *.ipynb* de este Jupyter Notebook se encuentra en https://github.com/plasmallan/an-lisis_procesos_ii en la carpeta Prueba Corta 1 dentro de la carpeta Pruebas Cortas."
   ]
  },
  {
   "cell_type": "code",
   "execution_count": 1,
   "id": "ca7144cf",
   "metadata": {},
   "outputs": [],
   "source": [
    "import pandas as pd\n",
    "import numpy as np\n",
    "from copy import deepcopy\n",
    "import matplotlib.pyplot as plt"
   ]
  },
  {
   "cell_type": "markdown",
   "id": "04487df3",
   "metadata": {},
   "source": [
    "# Problema 1\n",
    "\n",
    "Se tiene la ecuación química balanceada:\n",
    "\n",
    "$$C_{6}H_{8}+C_{8}H_{12}=C_{14}H_{20}$$\n",
    "\n",
    "Para estimar posibles concentraciones en el equilibrio, se puede tomar que las concentraciones iniciales de $A=C_{6}H_{8}$ y $B=C_{8}H_{12}$ son iguales a $x$ y que el equilibrio puede ser alcanzado una vez se toman partes iguales de cada uno de los compuestos, por ejemplo tomando la mitad de $A$ y $B$ para formar $C$ se tiene que:\n",
    "\n",
    "$$\\frac{\\frac{x}{2}+\\frac{x}{2}}{\\left(x-\\frac{x}{2}\\right)^2}=153.818\\Rightarrow x=0.026\\textrm{ [frac.mol]}$$\n",
    "\n",
    "De esta forma, se entiende que las concentraciones iniciales de $A$ y $B$ corresponden a $0.026$, mientras que una vez alcanzado el equilibrio, las concentraciones de estos son de $0.013$ y la de $C$ de $0.026$"
   ]
  },
  {
   "cell_type": "code",
   "execution_count": 16,
   "id": "96af3cd4",
   "metadata": {},
   "outputs": [
    {
     "data": {
      "text/html": [
       "<div>\n",
       "<style scoped>\n",
       "    .dataframe tbody tr th:only-of-type {\n",
       "        vertical-align: middle;\n",
       "    }\n",
       "\n",
       "    .dataframe tbody tr th {\n",
       "        vertical-align: top;\n",
       "    }\n",
       "\n",
       "    .dataframe thead th {\n",
       "        text-align: right;\n",
       "    }\n",
       "</style>\n",
       "<table border=\"1\" class=\"dataframe\">\n",
       "  <thead>\n",
       "    <tr style=\"text-align: right;\">\n",
       "      <th></th>\n",
       "      <th>Concentration A</th>\n",
       "      <th>Concentration B</th>\n",
       "      <th>Concentration C</th>\n",
       "    </tr>\n",
       "  </thead>\n",
       "  <tbody>\n",
       "    <tr>\n",
       "      <th>0</th>\n",
       "      <td>0.182</td>\n",
       "      <td>0.165</td>\n",
       "      <td>0.653</td>\n",
       "    </tr>\n",
       "    <tr>\n",
       "      <th>1</th>\n",
       "      <td>0.039</td>\n",
       "      <td>0.097</td>\n",
       "      <td>0.864</td>\n",
       "    </tr>\n",
       "    <tr>\n",
       "      <th>2</th>\n",
       "      <td>0.089</td>\n",
       "      <td>0.132</td>\n",
       "      <td>0.779</td>\n",
       "    </tr>\n",
       "    <tr>\n",
       "      <th>3</th>\n",
       "      <td>0.078</td>\n",
       "      <td>0.198</td>\n",
       "      <td>0.724</td>\n",
       "    </tr>\n",
       "    <tr>\n",
       "      <th>4</th>\n",
       "      <td>0.118</td>\n",
       "      <td>0.111</td>\n",
       "      <td>0.771</td>\n",
       "    </tr>\n",
       "  </tbody>\n",
       "</table>\n",
       "</div>"
      ],
      "text/plain": [
       "   Concentration A  Concentration B  Concentration C\n",
       "0            0.182            0.165            0.653\n",
       "1            0.039            0.097            0.864\n",
       "2            0.089            0.132            0.779\n",
       "3            0.078            0.198            0.724\n",
       "4            0.118            0.111            0.771"
      ]
     },
     "execution_count": 16,
     "metadata": {},
     "output_type": "execute_result"
    }
   ],
   "source": [
    "# Se importan los datos y se visualizan las primeras 5 líneas\n",
    "data=pd.read_csv('Concentrations.csv',low_memory=False)\n",
    "data.head()"
   ]
  },
  {
   "cell_type": "code",
   "execution_count": 17,
   "id": "2f999bd4",
   "metadata": {},
   "outputs": [],
   "source": [
    "Q=pd.DataFrame(data['Concentration C']/data['Concentration A']/data['Concentration B'])"
   ]
  },
  {
   "cell_type": "code",
   "execution_count": 18,
   "id": "9c809f25",
   "metadata": {},
   "outputs": [],
   "source": [
    "# Se almacena Q como arreglo de numpy para simplificar la obtención de los valores que se desean a continuación\n",
    "Qarray=np.array(Q)"
   ]
  },
  {
   "cell_type": "code",
   "execution_count": 27,
   "id": "9d95bdbc",
   "metadata": {},
   "outputs": [
    {
     "data": {
      "text/plain": [
       "36"
      ]
     },
     "execution_count": 27,
     "metadata": {},
     "output_type": "execute_result"
    }
   ],
   "source": [
    "#Se buscan los que están en equilibrio y se almacenan en Qeq, se retorna el la cantidad que cumplen la condición\n",
    "Qeq=Qarray[np.where(np.abs(Qarray-153.818)<1)]\n",
    "len(Qeq)"
   ]
  },
  {
   "cell_type": "markdown",
   "id": "55cf5065",
   "metadata": {},
   "source": [
    "# Problema 2"
   ]
  },
  {
   "cell_type": "code",
   "execution_count": 28,
   "id": "7c3c4d16",
   "metadata": {},
   "outputs": [],
   "source": [
    "# Se crean las dos matrices con Numpy\n",
    "A=np.matrix([[2.8,9.3],\n",
    "            [4.2,3.1],\n",
    "            [1.4,9.1]])\n",
    "B=np.matrix([[8.1,5.3,7.7],\n",
    "            [6.7,2.0,5.8]])"
   ]
  },
  {
   "cell_type": "code",
   "execution_count": 33,
   "id": "06d99c74",
   "metadata": {},
   "outputs": [
    {
     "data": {
      "text/plain": [
       "177.01000000000002"
      ]
     },
     "execution_count": 33,
     "metadata": {},
     "output_type": "execute_result"
    }
   ],
   "source": [
    "# Se calcula la traza del producto de ambas matrices\n",
    "np.trace(np.matmul(A,B))"
   ]
  },
  {
   "cell_type": "markdown",
   "id": "e282a9b6",
   "metadata": {},
   "source": [
    "# Problema 3"
   ]
  },
  {
   "cell_type": "code",
   "execution_count": 35,
   "id": "c49e9264",
   "metadata": {},
   "outputs": [],
   "source": [
    "A=np.matrix([[9.9,9.1,4.8],\n",
    "          [7.1,7.6,2.5],\n",
    "          [4.7,9.9,9.9],\n",
    "          [2.9,7.4,1.5],\n",
    "          [8.4,6.8,7.6]])"
   ]
  },
  {
   "cell_type": "code",
   "execution_count": 46,
   "id": "d0476bcf",
   "metadata": {},
   "outputs": [],
   "source": [
    "def AijPi(A,ij):\n",
    "    \"\"\"\n",
    "    Función que multiplica la entrada A[i,j] de la matriz A por el númer pi.\n",
    "    Parámetros de entrada:\n",
    "    ----------------------\n",
    "    A: objeto matriz\n",
    "    ij: tupla que contiene la el número de la fila i y columna j de la matriz que se quiere tomar.\n",
    "    \n",
    "    Salida:\n",
    "    ----------------------\n",
    "    valor: entrada A[i,j] de la matriz por pi.\n",
    "    \"\"\"\n",
    "    i=ij[0]-1\n",
    "    j=ij[1]-1\n",
    "    valor=A[i,j]*np.pi\n",
    "    return valor"
   ]
  },
  {
   "cell_type": "code",
   "execution_count": 47,
   "id": "a99a99a8",
   "metadata": {},
   "outputs": [
    {
     "data": {
      "text/plain": [
       "23.24778563656447"
      ]
     },
     "execution_count": 47,
     "metadata": {},
     "output_type": "execute_result"
    }
   ],
   "source": [
    "AijPi(A,(4,2))"
   ]
  }
 ],
 "metadata": {
  "kernelspec": {
   "display_name": "Python 3",
   "language": "python",
   "name": "python3"
  },
  "language_info": {
   "codemirror_mode": {
    "name": "ipython",
    "version": 3
   },
   "file_extension": ".py",
   "mimetype": "text/x-python",
   "name": "python",
   "nbconvert_exporter": "python",
   "pygments_lexer": "ipython3",
   "version": "3.8.8"
  }
 },
 "nbformat": 4,
 "nbformat_minor": 5
}
