{
 "cells": [
  {
   "cell_type": "code",
   "execution_count": 1,
   "id": "be979f8a",
   "metadata": {},
   "outputs": [],
   "source": [
    "import numpy as np"
   ]
  },
  {
   "cell_type": "code",
   "execution_count": 2,
   "id": "b7f9d778",
   "metadata": {},
   "outputs": [],
   "source": [
    "# Parámetros\n",
    "G=0.00007635 # kg/s\n",
    "cp=2.30e03 # J/(kg K)\n",
    "Te=283.78 # K\n",
    "Tv=425.68 # K\n",
    "U0=0.006691e03 # W/(m^2 K)\n",
    "A0=1.68 # m^2"
   ]
  },
  {
   "cell_type": "code",
   "execution_count": 3,
   "id": "dfa8b40c",
   "metadata": {},
   "outputs": [],
   "source": [
    "k=(G*cp*Te+U0*A0*Tv)/(G*cp+U0*A0)"
   ]
  },
  {
   "cell_type": "markdown",
   "id": "6ed9137b",
   "metadata": {},
   "source": [
    "# Derivación Numérica"
   ]
  },
  {
   "cell_type": "code",
   "execution_count": 7,
   "id": "fed4288c",
   "metadata": {},
   "outputs": [],
   "source": [
    "def Derivando(t):\n",
    "    T=k*np.log(1.40+t)*np.log(2.67+t)*np.log(t)\n",
    "    return T"
   ]
  },
  {
   "cell_type": "code",
   "execution_count": 8,
   "id": "f273410e",
   "metadata": {},
   "outputs": [],
   "source": [
    "def Derivada(f,h,t):\n",
    "    x1=f(t-h)\n",
    "    x2=f(t+h)\n",
    "    dfdt=(x2-x1)/(2*h)\n",
    "    return dfdt"
   ]
  },
  {
   "cell_type": "code",
   "execution_count": 10,
   "id": "e6f3a823",
   "metadata": {},
   "outputs": [
    {
     "data": {
      "text/plain": [
       "702.6582488222175"
      ]
     },
     "execution_count": 10,
     "metadata": {},
     "output_type": "execute_result"
    }
   ],
   "source": [
    "Derivada(Derivando,0.001,5.16)"
   ]
  },
  {
   "cell_type": "markdown",
   "id": "519ae697",
   "metadata": {},
   "source": [
    "# Integración Numérica"
   ]
  },
  {
   "cell_type": "code",
   "execution_count": 16,
   "id": "c0ad95c9",
   "metadata": {},
   "outputs": [],
   "source": [
    "def Integrando(t):\n",
    "    T=t*k*np.log(1.40+t)*np.log(2.67+t)*np.log(t)\n",
    "    return T"
   ]
  },
  {
   "cell_type": "code",
   "execution_count": 17,
   "id": "1c204611",
   "metadata": {},
   "outputs": [],
   "source": [
    "def IntegralMonteCarlo(F,A,N):\n",
    "    ni=[]\n",
    "    for iN in range(N):\n",
    "        np.random.seed(np.random.randint(10**4,10**8))\n",
    "        ni.append((A[1]-A[0])*np.random.random()+A[0])\n",
    "    f=F(np.array(ni)).sum()/N\n",
    "    f2=(F(np.array(ni))**2).sum()/N\n",
    "    trabajo1=(f*(A[1]-A[0])+(A[1]-A[0])*np.sqrt((f2-f**2)/N))*G*cp\n",
    "    trabajo2=(f*(A[1]-A[0])-(A[1]-A[0])*np.sqrt((f2-f**2)/N))*G*cp\n",
    "    trabajo=np.array([trabajo1,trabajo2]).mean()\n",
    "    return trabajo,trabajo1,trabajo2,1/np.sqrt(N)"
   ]
  },
  {
   "cell_type": "code",
   "execution_count": 32,
   "id": "784ceaa0",
   "metadata": {},
   "outputs": [
    {
     "data": {
      "text/plain": [
       "(3616.341982058042, 3645.908279587615, 3586.7756845284684, 0.01)"
      ]
     },
     "execution_count": 32,
     "metadata": {},
     "output_type": "execute_result"
    }
   ],
   "source": [
    "IntegralMonteCarlo(Integrando,[1,5.16],10000)"
   ]
  }
 ],
 "metadata": {
  "kernelspec": {
   "display_name": "Python 3",
   "language": "python",
   "name": "python3"
  },
  "language_info": {
   "codemirror_mode": {
    "name": "ipython",
    "version": 3
   },
   "file_extension": ".py",
   "mimetype": "text/x-python",
   "name": "python",
   "nbconvert_exporter": "python",
   "pygments_lexer": "ipython3",
   "version": "3.8.10"
  }
 },
 "nbformat": 4,
 "nbformat_minor": 5
}
