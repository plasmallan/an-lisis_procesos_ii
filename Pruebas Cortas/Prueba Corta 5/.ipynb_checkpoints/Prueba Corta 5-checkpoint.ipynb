{
 "cells": [
  {
   "cell_type": "code",
   "execution_count": 1,
   "id": "0ed36ed2",
   "metadata": {},
   "outputs": [],
   "source": [
    "import numpy as np"
   ]
  },
  {
   "cell_type": "markdown",
   "id": "57d41504",
   "metadata": {},
   "source": [
    "# Solución Analítica\n",
    "\n",
    "1. $V_{A}=0$\n",
    "2. $F_{E}=N_{A}\\pi r^2$\n",
    "3. $F_{S}=N_{A}\\pi r^2+\\delta\\left(N_{A}\\pi r^2\\right)$\n",
    "4. $V_{G}=0$\n",
    "5. $V_{C}=(-R_{A})\\pi r^2\\delta z$\n",
    "\n",
    "$$0=N_{A}\\pi r^2-\\left(N_{A}\\pi r^2+\\delta\\left(N_{A}\\pi r^2\\right)\\right)-(-R_{A})\\pi r^2\\delta z$$\n",
    "$$\\delta\\left(N_{A}\\right)=-(-R_{A})\\delta z$$\n",
    "$$\\frac{dN_{A}}{dz}+\\kappa C_{A}=0$$\n",
    "\n",
    "$$N_{A}=-D_{AB}\\frac{dC_{A}}{dz}+\\nu C_{A}$$\n",
    "\n",
    "Se asume que gobierna la difución, entonces $\\nu\\approx0$.\n",
    "\n",
    "$$\\frac{d^2C_{A}}{dz^2}=\\frac{\\kappa C_{A}}{D_{AB}}$$\n",
    "\n",
    "Suponiendo $C_{A}=C_{1}\\exp{\\left(mz\\right)}$:\n",
    "\n",
    "$$m^2=\\frac{\\kappa}{D_{AB}}$$\n",
    "$$m=\\pm\\sqrt{\\frac{\\kappa}{D_{AB}}}$$\n",
    "\n",
    "$$C_{A}=C_{1}\\exp{\\left(z\\sqrt{\\frac{\\kappa}{D_{AB}}}\\right)}+C_{2}\\exp{\\left(-z\\sqrt{\\frac{\\kappa}{D_{AB}}}\\right)}$$\n",
    "$$C_{A}=A\\sinh{\\left(z\\sqrt{\\frac{\\kappa}{D_{AB}}}\\right)}+B\\cosh{\\left(z\\sqrt{\\frac{\\kappa}{D_{AB}}}\\right)}$$\n",
    "\n",
    "$$B=C_{A0}$$\n",
    "\n",
    "$$A=\\frac{\\alpha C_{A0}-C_{A0}\\cosh{\\left(L\\sqrt{\\frac{\\kappa}{D_{AB}}}\\right)}}{\\sinh{\\left(L\\sqrt{\\frac{\\kappa}{D_{AB}}}\\right)}}$$\n",
    "\n",
    "$$C_{A}=\\frac{\\alpha C_{A0}-C_{A0}\\cosh{\\left(L\\sqrt{\\frac{\\kappa}{D_{AB}}}\\right)}}{\\sinh{\\left(L\\sqrt{\\frac{\\kappa}{D_{AB}}}\\right)}}\\sinh{\\left(z\\sqrt{\\frac{\\kappa}{D_{AB}}}\\right)}+C_{A0}\\cosh{\\left(z\\sqrt{\\frac{\\kappa}{D_{AB}}}\\right)}$$\n",
    "\n",
    "# Planteamiento para la solución numérica\n",
    "\n",
    "Sea $\\lambda=dC_{A}/dz$:\n",
    "\n",
    "$$\\frac{d\\lambda}{dz}=\\frac{\\kappa C_{A}}{D_{AB}}$$\n",
    "$$\\frac{dC_{A}}{dz}=\\lambda$$"
   ]
  },
  {
   "cell_type": "code",
   "execution_count": 2,
   "id": "90eec290",
   "metadata": {},
   "outputs": [],
   "source": [
    "# Parámetros\n",
    "k=0.0014\n",
    "C0=856.08\n",
    "alpha=0.9\n",
    "CL=C0*alpha\n",
    "L=18.05\n",
    "Dab=0.0028098\n",
    "h=0.0001"
   ]
  },
  {
   "cell_type": "code",
   "execution_count": 3,
   "id": "55677174",
   "metadata": {},
   "outputs": [],
   "source": [
    "def Analítica(z):\n",
    "    return (CL-C0*np.cosh(L*np.sqrt(k/Dab)))/(np.sinh(L*np.sqrt(k/Dab)))*np.sinh(z*np.sqrt(k/Dab))+C0*np.cosh(z*np.sqrt(k/Dab))"
   ]
  },
  {
   "cell_type": "code",
   "execution_count": 4,
   "id": "2a9b1b25",
   "metadata": {},
   "outputs": [
    {
     "data": {
      "text/plain": [
       "40.33108674771938"
      ]
     },
     "execution_count": 4,
     "metadata": {},
     "output_type": "execute_result"
    }
   ],
   "source": [
    "Analítica(4.33)"
   ]
  },
  {
   "cell_type": "code",
   "execution_count": 5,
   "id": "cf51f195",
   "metadata": {},
   "outputs": [],
   "source": [
    "def Derivada(f,h,t):\n",
    "    x1=f(t-h)\n",
    "    x2=f(t+h)\n",
    "    dfdt=(x2-x1)/(2*h)\n",
    "    return dfdt"
   ]
  },
  {
   "cell_type": "code",
   "execution_count": 6,
   "id": "feb897c8",
   "metadata": {},
   "outputs": [
    {
     "data": {
      "text/plain": [
       "-604.2802160686733"
      ]
     },
     "execution_count": 6,
     "metadata": {},
     "output_type": "execute_result"
    }
   ],
   "source": [
    "u0=Derivada(Analítica,h,0)\n",
    "u0"
   ]
  },
  {
   "cell_type": "code",
   "execution_count": 7,
   "id": "71608429",
   "metadata": {},
   "outputs": [],
   "source": [
    "f = lambda C: k*C/Dab # ODE"
   ]
  },
  {
   "cell_type": "code",
   "execution_count": 8,
   "id": "4fffbe32",
   "metadata": {},
   "outputs": [],
   "source": [
    "def RK4(f,zf):\n",
    "    '''\n",
    "    Esta función corresponde a una función que soluciona una EDO por RK4 iterando sobre un y = np.arange(y0,yf,h)\n",
    "    \n",
    "    Parámetros\n",
    "    ------------------------\n",
    "    f: función al lado derecho de la EDO\n",
    "    zf: valor de la variable independiente para el cual se desea encontrar el valor de C.\n",
    "    ------------------------\n",
    "    C: valor de C en zf.\n",
    "    '''\n",
    "    u=u0\n",
    "    C=C0\n",
    "    z=0\n",
    "    while z<=zf:\n",
    "        m1=h*u\n",
    "        k1=h*f(C)\n",
    "        m2=h*(u+k1/2)\n",
    "        k2=h*f(C+m1/2)\n",
    "        m3=h*(u+k2/2)\n",
    "        k3=h*f(C+m2/2)\n",
    "        m4=h*(u+k3)\n",
    "        k4=h*f(C+m3)\n",
    "        u+=(k1+2*k2+2*k3+k4)/6\n",
    "        C+=(m1+2*m2+2*m3+m4)/6\n",
    "        z+=h\n",
    "    return C"
   ]
  },
  {
   "cell_type": "code",
   "execution_count": 9,
   "id": "f41fd5af",
   "metadata": {},
   "outputs": [
    {
     "data": {
      "text/plain": [
       "40.33107921194848"
      ]
     },
     "execution_count": 9,
     "metadata": {},
     "output_type": "execute_result"
    }
   ],
   "source": [
    "RK4(f,4.33)"
   ]
  }
 ],
 "metadata": {
  "kernelspec": {
   "display_name": "Python 3",
   "language": "python",
   "name": "python3"
  },
  "language_info": {
   "codemirror_mode": {
    "name": "ipython",
    "version": 3
   },
   "file_extension": ".py",
   "mimetype": "text/x-python",
   "name": "python",
   "nbconvert_exporter": "python",
   "pygments_lexer": "ipython3",
   "version": "3.8.10"
  }
 },
 "nbformat": 4,
 "nbformat_minor": 5
}
