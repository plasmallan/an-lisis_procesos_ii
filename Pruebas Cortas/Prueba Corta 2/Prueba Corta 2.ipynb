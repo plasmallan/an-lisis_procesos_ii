{
 "cells": [
  {
   "cell_type": "markdown",
   "id": "d33438c2",
   "metadata": {},
   "source": [
    "# Problema 1"
   ]
  },
  {
   "cell_type": "code",
   "execution_count": 2,
   "id": "561f4adc",
   "metadata": {},
   "outputs": [],
   "source": [
    "import numpy as np"
   ]
  },
  {
   "cell_type": "code",
   "execution_count": 5,
   "id": "ed9424d1",
   "metadata": {},
   "outputs": [],
   "source": [
    "def F1(x,y):\n",
    "    \"\"\"\n",
    "    Función que regresa el valor de la función 1 y el valor de sus dos derivadas parciales para x y y.\n",
    "    \"\"\"\n",
    "    return x**3-y**(3/5)-2,3*x**2,-3*y**(-2/5)/5"
   ]
  },
  {
   "cell_type": "code",
   "execution_count": 6,
   "id": "09c10da2",
   "metadata": {},
   "outputs": [],
   "source": [
    "def F2(x,y):\n",
    "    \"\"\"\n",
    "    Función que regresa el valor de la función 2 y el valor de sus dos derivadas parciales para x y y.\n",
    "    \"\"\"\n",
    "    return np.exp(5*x/3)-x*y-9,5*np.exp(5*x/3)/3-y,-x"
   ]
  },
  {
   "cell_type": "code",
   "execution_count": 7,
   "id": "a5102a59",
   "metadata": {},
   "outputs": [],
   "source": [
    "def JacobianoInverso(x,y):\n",
    "    \"\"\"\n",
    "    Función que calcula el Jacobiano inverso de las dos funciones F1 y F2, una matriz compuesta de las derivadas parciales.\n",
    "    \"\"\"\n",
    "    _,df1dx,df1dy=F1(x,y)\n",
    "    _,df2dx,df2dy=F2(x,y)\n",
    "    jacobiano=np.matrix([[df1dx,df1dy],\n",
    "                        [df2dx,df2dy]])\n",
    "    jacobianoInverso=np.linalg.inv(jacobiano)\n",
    "    return jacobianoInverso"
   ]
  },
  {
   "cell_type": "code",
   "execution_count": 49,
   "id": "9491b43d",
   "metadata": {},
   "outputs": [],
   "source": [
    "def SistemaEcuaciones(x0,y0,n):\n",
    "    \"\"\"\n",
    "    Función que obtiene una solución para las dos variables x y y del sistema de ecuaciones compuesto por F1 y F2 y el\n",
    "    error estimado para ambas ecuaciones.\n",
    "    \"\"\"\n",
    "    p=0\n",
    "    while p<=n:\n",
    "        f1,_,_=F1(x0,y0)\n",
    "        f2,_,_=F2(x0,y0)\n",
    "        g1=0-f1\n",
    "        g2=0-f2\n",
    "        delta=np.matrix([g1,\n",
    "                         g2])\n",
    "        solucion=JacobianoInverso(x0,y0)*delta.reshape(2,1)\n",
    "        x0+=np.array(solucion)[0][0]\n",
    "        y0+=np.array(solucion)[1][0]\n",
    "        p+=1\n",
    "        errores=(g1,g2)\n",
    "    return x0,y0,errores"
   ]
  },
  {
   "cell_type": "code",
   "execution_count": 65,
   "id": "612c2bb8",
   "metadata": {},
   "outputs": [
    {
     "data": {
      "text/plain": [
       "(6.998913314598443,\n",
       " 16630.993482090038,\n",
       " (5.684341886080802e-14, -2.9103830456733704e-11))"
      ]
     },
     "execution_count": 65,
     "metadata": {},
     "output_type": "execute_result"
    }
   ],
   "source": [
    "SistemaEcuaciones(100,20,1000)"
   ]
  },
  {
   "cell_type": "markdown",
   "id": "4c29e210",
   "metadata": {},
   "source": [
    "# Problema 2"
   ]
  },
  {
   "cell_type": "code",
   "execution_count": 66,
   "id": "b4ff7fb1",
   "metadata": {},
   "outputs": [],
   "source": [
    "import matplotlib.pyplot as plt"
   ]
  },
  {
   "cell_type": "code",
   "execution_count": 67,
   "id": "3bb93133",
   "metadata": {},
   "outputs": [],
   "source": [
    "F0=8.494 # [kmol/h]\n",
    "V=4.160 # [m^3]\n",
    "tau=9.862 #[h]"
   ]
  },
  {
   "cell_type": "code",
   "execution_count": 71,
   "id": "3c2b660c",
   "metadata": {},
   "outputs": [],
   "source": [
    "def Concentración(t):\n",
    "    C=F0*t*np.exp(t/tau)/V\n",
    "    dCdt=(F0/V)*(np.exp(t/tau)+t*np.exp(t/tau)/tau)\n",
    "    return C,dCdt"
   ]
  },
  {
   "cell_type": "code",
   "execution_count": 72,
   "id": "e25eb96e",
   "metadata": {},
   "outputs": [],
   "source": [
    "def TiempoConcentrción(Cx,n,t0):\n",
    "    p=0\n",
    "    while p<=n:\n",
    "        C,dCdt=Concentración(t0)\n",
    "        t0=t0-(Cx-C)/(-dCdt)\n",
    "        p+=1\n",
    "    return t0,(Cx-C)"
   ]
  },
  {
   "cell_type": "code",
   "execution_count": 75,
   "id": "e1b50724",
   "metadata": {},
   "outputs": [
    {
     "data": {
      "text/plain": [
       "(0.1085052690819086, 0.0)"
      ]
     },
     "execution_count": 75,
     "metadata": {},
     "output_type": "execute_result"
    }
   ],
   "source": [
    "TiempoConcentrción(0.224,100,1)"
   ]
  },
  {
   "cell_type": "code",
   "execution_count": 86,
   "id": "1f7df780",
   "metadata": {},
   "outputs": [],
   "source": [
    "t_prueba=np.arange(0,0.15,0.0001)\n",
    "C_prueba,_=Concentración(t_prueba)"
   ]
  },
  {
   "cell_type": "code",
   "execution_count": 87,
   "id": "bb629bfa",
   "metadata": {},
   "outputs": [
    {
     "data": {
      "image/png": "[encoded data removed]",
      "text/plain": [
       "<Figure size 432x288 with 1 Axes>"
      ]
     },
     "metadata": {
      "needs_background": "light"
     },
     "output_type": "display_data"
    }
   ],
   "source": [
    "plt.plot(t_prueba,C_prueba)\n",
    "plt.scatter(TiempoConcentrción(0.224,100,1)[0],Concentración(TiempoConcentrción(0.224,100,1)[0])[0],c='orange')\n",
    "plt.xlabel('Tiempo [h]')\n",
    "plt.ylabel('Concentración [kmol/m^3]')\n",
    "plt.show()"
   ]
  }
 ],
 "metadata": {
  "kernelspec": {
   "display_name": "Python 3",
   "language": "python",
   "name": "python3"
  },
  "language_info": {
   "codemirror_mode": {
    "name": "ipython",
    "version": 3
   },
   "file_extension": ".py",
   "mimetype": "text/x-python",
   "name": "python",
   "nbconvert_exporter": "python",
   "pygments_lexer": "ipython3",
   "version": "3.8.8"
  }
 },
 "nbformat": 4,
 "nbformat_minor": 5
}
