{
 "cells": [
  {
   "cell_type": "code",
   "execution_count": 1,
   "id": "8816954b",
   "metadata": {},
   "outputs": [],
   "source": [
    "import pandas as pd\n",
    "import matplotlib.pyplot as plt\n",
    "import numpy as np\n",
    "import scipy.optimize as sopt\n",
    "import scipy.stats as stats\n",
    "from scipy.stats import anderson"
   ]
  },
  {
   "cell_type": "code",
   "execution_count": 2,
   "id": "d03a208a",
   "metadata": {},
   "outputs": [],
   "source": [
    "datos=pd.read_excel('Datos.xlsx')"
   ]
  },
  {
   "cell_type": "code",
   "execution_count": 3,
   "id": "3dc9a471",
   "metadata": {},
   "outputs": [],
   "source": [
    "datos=datos.dropna()"
   ]
  },
  {
   "cell_type": "code",
   "execution_count": 4,
   "id": "668ac75c",
   "metadata": {},
   "outputs": [
    {
     "data": {
      "text/html": [
       "<div>\n",
       "<style scoped>\n",
       "    .dataframe tbody tr th:only-of-type {\n",
       "        vertical-align: middle;\n",
       "    }\n",
       "\n",
       "    .dataframe tbody tr th {\n",
       "        vertical-align: top;\n",
       "    }\n",
       "\n",
       "    .dataframe thead th {\n",
       "        text-align: right;\n",
       "    }\n",
       "</style>\n",
       "<table border=\"1\" class=\"dataframe\">\n",
       "  <thead>\n",
       "    <tr style=\"text-align: right;\">\n",
       "      <th></th>\n",
       "      <th>Datos destilación</th>\n",
       "      <th>Unnamed: 1</th>\n",
       "      <th>Unnamed: 2</th>\n",
       "      <th>Unnamed: 3</th>\n",
       "      <th>Unnamed: 4</th>\n",
       "      <th>Unnamed: 5</th>\n",
       "      <th>Unnamed: 6</th>\n",
       "      <th>Unnamed: 7</th>\n",
       "      <th>Unnamed: 8</th>\n",
       "      <th>Unnamed: 9</th>\n",
       "      <th>Unnamed: 10</th>\n",
       "      <th>Unnamed: 11</th>\n",
       "    </tr>\n",
       "  </thead>\n",
       "  <tbody>\n",
       "    <tr>\n",
       "      <th>2</th>\n",
       "      <td>Volumen evaporado, %</td>\n",
       "      <td>tiempo, s</td>\n",
       "      <td>Temperatura de destilación, °C</td>\n",
       "      <td>Volumen evaporado, %</td>\n",
       "      <td>tiempo</td>\n",
       "      <td>Temperatura de destilación</td>\n",
       "      <td>Volumen evaporado, %</td>\n",
       "      <td>tiempo</td>\n",
       "      <td>Temperatura de destilación</td>\n",
       "      <td>Volumen evaporado, %</td>\n",
       "      <td>tiempo</td>\n",
       "      <td>Temperatura de destilación</td>\n",
       "    </tr>\n",
       "    <tr>\n",
       "      <th>3</th>\n",
       "      <td>Primera gota</td>\n",
       "      <td>375</td>\n",
       "      <td>26.6</td>\n",
       "      <td>Primera gota</td>\n",
       "      <td>376</td>\n",
       "      <td>29.6</td>\n",
       "      <td>Primera gota</td>\n",
       "      <td>379</td>\n",
       "      <td>28.4</td>\n",
       "      <td>Primera gota</td>\n",
       "      <td>375</td>\n",
       "      <td>30.8</td>\n",
       "    </tr>\n",
       "    <tr>\n",
       "      <th>4</th>\n",
       "      <td>5</td>\n",
       "      <td>460</td>\n",
       "      <td>43.5</td>\n",
       "      <td>5</td>\n",
       "      <td>458</td>\n",
       "      <td>45.8</td>\n",
       "      <td>5</td>\n",
       "      <td>459</td>\n",
       "      <td>44.3</td>\n",
       "      <td>5</td>\n",
       "      <td>465</td>\n",
       "      <td>47.4</td>\n",
       "    </tr>\n",
       "    <tr>\n",
       "      <th>5</th>\n",
       "      <td>10</td>\n",
       "      <td>529.7</td>\n",
       "      <td>50.2</td>\n",
       "      <td>10</td>\n",
       "      <td>529.4</td>\n",
       "      <td>52.6</td>\n",
       "      <td>10</td>\n",
       "      <td>530.4</td>\n",
       "      <td>51</td>\n",
       "      <td>10</td>\n",
       "      <td>536.4</td>\n",
       "      <td>52.3</td>\n",
       "    </tr>\n",
       "    <tr>\n",
       "      <th>6</th>\n",
       "      <td>15</td>\n",
       "      <td>599.5</td>\n",
       "      <td>55.7</td>\n",
       "      <td>15</td>\n",
       "      <td>599.1</td>\n",
       "      <td>58</td>\n",
       "      <td>15</td>\n",
       "      <td>601.8</td>\n",
       "      <td>56.8</td>\n",
       "      <td>15</td>\n",
       "      <td>607.8</td>\n",
       "      <td>58.3</td>\n",
       "    </tr>\n",
       "  </tbody>\n",
       "</table>\n",
       "</div>"
      ],
      "text/plain": [
       "      Datos destilación Unnamed: 1                      Unnamed: 2  \\\n",
       "2  Volumen evaporado, %  tiempo, s  Temperatura de destilación, °C   \n",
       "3          Primera gota        375                            26.6   \n",
       "4                     5        460                            43.5   \n",
       "5                    10      529.7                            50.2   \n",
       "6                    15      599.5                            55.7   \n",
       "\n",
       "             Unnamed: 3 Unnamed: 4                  Unnamed: 5  \\\n",
       "2  Volumen evaporado, %     tiempo  Temperatura de destilación   \n",
       "3          Primera gota        376                        29.6   \n",
       "4                     5        458                        45.8   \n",
       "5                    10      529.4                        52.6   \n",
       "6                    15      599.1                          58   \n",
       "\n",
       "             Unnamed: 6 Unnamed: 7                  Unnamed: 8  \\\n",
       "2  Volumen evaporado, %     tiempo  Temperatura de destilación   \n",
       "3          Primera gota        379                        28.4   \n",
       "4                     5        459                        44.3   \n",
       "5                    10      530.4                          51   \n",
       "6                    15      601.8                        56.8   \n",
       "\n",
       "             Unnamed: 9 Unnamed: 10                 Unnamed: 11  \n",
       "2  Volumen evaporado, %      tiempo  Temperatura de destilación  \n",
       "3          Primera gota         375                        30.8  \n",
       "4                     5         465                        47.4  \n",
       "5                    10       536.4                        52.3  \n",
       "6                    15       607.8                        58.3  "
      ]
     },
     "execution_count": 4,
     "metadata": {},
     "output_type": "execute_result"
    }
   ],
   "source": [
    "datos.head()"
   ]
  },
  {
   "cell_type": "code",
   "execution_count": 5,
   "id": "7a764bb1",
   "metadata": {},
   "outputs": [],
   "source": [
    "datosCorrida2=pd.concat([datos['Unnamed: 3'],datos['Unnamed: 4'],datos['Unnamed: 5']],axis=1)\n",
    "datosCorrida2=pd.concat([pd.DataFrame({'Unnamed: 3':[0],'Unnamed: 4':[0],'Unnamed: 5':[15]}),datosCorrida2])"
   ]
  },
  {
   "cell_type": "code",
   "execution_count": 6,
   "id": "21b2838e",
   "metadata": {},
   "outputs": [
    {
     "data": {
      "text/html": [
       "<div>\n",
       "<style scoped>\n",
       "    .dataframe tbody tr th:only-of-type {\n",
       "        vertical-align: middle;\n",
       "    }\n",
       "\n",
       "    .dataframe tbody tr th {\n",
       "        vertical-align: top;\n",
       "    }\n",
       "\n",
       "    .dataframe thead th {\n",
       "        text-align: right;\n",
       "    }\n",
       "</style>\n",
       "<table border=\"1\" class=\"dataframe\">\n",
       "  <thead>\n",
       "    <tr style=\"text-align: right;\">\n",
       "      <th></th>\n",
       "      <th>Unnamed: 3</th>\n",
       "      <th>Unnamed: 4</th>\n",
       "      <th>Unnamed: 5</th>\n",
       "    </tr>\n",
       "  </thead>\n",
       "  <tbody>\n",
       "    <tr>\n",
       "      <th>0</th>\n",
       "      <td>0</td>\n",
       "      <td>0</td>\n",
       "      <td>15</td>\n",
       "    </tr>\n",
       "    <tr>\n",
       "      <th>2</th>\n",
       "      <td>Volumen evaporado, %</td>\n",
       "      <td>tiempo</td>\n",
       "      <td>Temperatura de destilación</td>\n",
       "    </tr>\n",
       "    <tr>\n",
       "      <th>3</th>\n",
       "      <td>Primera gota</td>\n",
       "      <td>376</td>\n",
       "      <td>29.6</td>\n",
       "    </tr>\n",
       "    <tr>\n",
       "      <th>4</th>\n",
       "      <td>5</td>\n",
       "      <td>458</td>\n",
       "      <td>45.8</td>\n",
       "    </tr>\n",
       "    <tr>\n",
       "      <th>5</th>\n",
       "      <td>10</td>\n",
       "      <td>529.4</td>\n",
       "      <td>52.6</td>\n",
       "    </tr>\n",
       "  </tbody>\n",
       "</table>\n",
       "</div>"
      ],
      "text/plain": [
       "             Unnamed: 3 Unnamed: 4                  Unnamed: 5\n",
       "0                     0          0                          15\n",
       "2  Volumen evaporado, %     tiempo  Temperatura de destilación\n",
       "3          Primera gota        376                        29.6\n",
       "4                     5        458                        45.8\n",
       "5                    10      529.4                        52.6"
      ]
     },
     "execution_count": 6,
     "metadata": {},
     "output_type": "execute_result"
    }
   ],
   "source": [
    "datosCorrida2.head()"
   ]
  },
  {
   "cell_type": "code",
   "execution_count": 7,
   "id": "494d14ee",
   "metadata": {},
   "outputs": [],
   "source": [
    "datosCorrida2.columns=datosCorrida2.iloc[1]"
   ]
  },
  {
   "cell_type": "code",
   "execution_count": 8,
   "id": "f70914d1",
   "metadata": {
    "scrolled": true
   },
   "outputs": [],
   "source": [
    "datosCorrida2=datosCorrida2.drop(2,axis=0)"
   ]
  },
  {
   "cell_type": "code",
   "execution_count": 9,
   "id": "b809fa22",
   "metadata": {
    "scrolled": true
   },
   "outputs": [],
   "source": [
    "datosCorrida2.index=[i for i in range(len(datosCorrida2))]"
   ]
  },
  {
   "cell_type": "code",
   "execution_count": 10,
   "id": "ff7bb5c1",
   "metadata": {},
   "outputs": [
    {
     "data": {
      "text/html": [
       "<div>\n",
       "<style scoped>\n",
       "    .dataframe tbody tr th:only-of-type {\n",
       "        vertical-align: middle;\n",
       "    }\n",
       "\n",
       "    .dataframe tbody tr th {\n",
       "        vertical-align: top;\n",
       "    }\n",
       "\n",
       "    .dataframe thead th {\n",
       "        text-align: right;\n",
       "    }\n",
       "</style>\n",
       "<table border=\"1\" class=\"dataframe\">\n",
       "  <thead>\n",
       "    <tr style=\"text-align: right;\">\n",
       "      <th>2</th>\n",
       "      <th>Volumen evaporado, %</th>\n",
       "      <th>tiempo</th>\n",
       "      <th>Temperatura de destilación</th>\n",
       "    </tr>\n",
       "  </thead>\n",
       "  <tbody>\n",
       "    <tr>\n",
       "      <th>0</th>\n",
       "      <td>0</td>\n",
       "      <td>0</td>\n",
       "      <td>15</td>\n",
       "    </tr>\n",
       "    <tr>\n",
       "      <th>1</th>\n",
       "      <td>Primera gota</td>\n",
       "      <td>376</td>\n",
       "      <td>29.6</td>\n",
       "    </tr>\n",
       "    <tr>\n",
       "      <th>2</th>\n",
       "      <td>5</td>\n",
       "      <td>458</td>\n",
       "      <td>45.8</td>\n",
       "    </tr>\n",
       "    <tr>\n",
       "      <th>3</th>\n",
       "      <td>10</td>\n",
       "      <td>529.4</td>\n",
       "      <td>52.6</td>\n",
       "    </tr>\n",
       "    <tr>\n",
       "      <th>4</th>\n",
       "      <td>15</td>\n",
       "      <td>599.1</td>\n",
       "      <td>58</td>\n",
       "    </tr>\n",
       "  </tbody>\n",
       "</table>\n",
       "</div>"
      ],
      "text/plain": [
       "2 Volumen evaporado, % tiempo Temperatura de destilación\n",
       "0                    0      0                         15\n",
       "1         Primera gota    376                       29.6\n",
       "2                    5    458                       45.8\n",
       "3                   10  529.4                       52.6\n",
       "4                   15  599.1                         58"
      ]
     },
     "execution_count": 10,
     "metadata": {},
     "output_type": "execute_result"
    }
   ],
   "source": [
    "datosCorrida2.head()"
   ]
  },
  {
   "cell_type": "code",
   "execution_count": 11,
   "id": "0d1695c8",
   "metadata": {},
   "outputs": [
    {
     "data": {
      "image/png": "[encoded data removed]",
      "text/plain": [
       "<Figure size 432x288 with 1 Axes>"
      ]
     },
     "metadata": {
      "needs_background": "light"
     },
     "output_type": "display_data"
    }
   ],
   "source": [
    "plt.plot(datosCorrida2['tiempo'],datosCorrida2['Temperatura de destilación'])\n",
    "plt.xlabel('t [s]')\n",
    "plt.ylabel('T [K]')\n",
    "plt.show()"
   ]
  },
  {
   "cell_type": "code",
   "execution_count": 12,
   "id": "3a45d624",
   "metadata": {},
   "outputs": [],
   "source": [
    "datosCorrida2['Volumen evaporado, %'][1]=0.1"
   ]
  },
  {
   "cell_type": "code",
   "execution_count": 13,
   "id": "58a348e9",
   "metadata": {},
   "outputs": [
    {
     "data": {
      "image/png": "[encoded data removed]",
      "text/plain": [
       "<Figure size 432x288 with 1 Axes>"
      ]
     },
     "metadata": {
      "needs_background": "light"
     },
     "output_type": "display_data"
    }
   ],
   "source": [
    "plt.plot(datosCorrida2['tiempo'],datosCorrida2['Volumen evaporado, %'])\n",
    "plt.xlabel('t [s]')\n",
    "plt.ylabel('Volumen evaporado [%]')\n",
    "plt.show()"
   ]
  },
  {
   "cell_type": "code",
   "execution_count": 14,
   "id": "9c2c66e2",
   "metadata": {},
   "outputs": [
    {
     "data": {
      "image/png": "[encoded data removed]",
      "text/plain": [
       "<Figure size 432x288 with 1 Axes>"
      ]
     },
     "metadata": {
      "needs_background": "light"
     },
     "output_type": "display_data"
    }
   ],
   "source": [
    "plt.plot(datosCorrida2['Temperatura de destilación'],datosCorrida2['Volumen evaporado, %'])\n",
    "plt.xlabel('Temperatura de destilación [K]')\n",
    "plt.ylabel('Volumen evaporado [%]')\n",
    "plt.show()"
   ]
  },
  {
   "cell_type": "markdown",
   "id": "da965f67",
   "metadata": {},
   "source": [
    "# Modelo empírico\n",
    "\n",
    "Para la temperatura como función del tiempo, se observa que existe cierta linealidad; sin embargo, podría expandirse un polinomio de grado mayor, lo que permitiría aumentar el ajuste, de esta forma, se escoge un polinomio de ajuste de la forma:\n",
    "\n",
    "$$T(t)=At^5+Bt^4+Ct^3+Dt^2+Et+F$$"
   ]
  },
  {
   "cell_type": "code",
   "execution_count": 15,
   "id": "faf8e20f",
   "metadata": {},
   "outputs": [],
   "source": [
    "tiempo,temperatura=np.asarray(datosCorrida2['tiempo']).astype('float64'),np.asarray(datosCorrida2['Temperatura de destilación']).astype('float64')"
   ]
  },
  {
   "cell_type": "code",
   "execution_count": 16,
   "id": "253f4473",
   "metadata": {},
   "outputs": [],
   "source": [
    "def ModeloEmpírico(t,A,B,C,D,E,F):\n",
    "    return A*t**5+B*t**4+C*t**3+D*t**2+E*t+F"
   ]
  },
  {
   "cell_type": "code",
   "execution_count": 17,
   "id": "fca30276",
   "metadata": {},
   "outputs": [],
   "source": [
    "coefs,cov=sopt.curve_fit(ModeloEmpírico,tiempo,temperatura)\n",
    "ajusT=ModeloEmpírico(tiempo,coefs[0],coefs[1],coefs[2],coefs[3],coefs[4],coefs[5])\n",
    "residuosEmpírico=ajusT-temperatura"
   ]
  },
  {
   "cell_type": "code",
   "execution_count": 18,
   "id": "a1691dba",
   "metadata": {},
   "outputs": [
    {
     "data": {
      "text/plain": [
       "8.5292942426587"
      ]
     },
     "execution_count": 18,
     "metadata": {},
     "output_type": "execute_result"
    }
   ],
   "source": [
    "desvEst=(residuosEmpírico**2).sum()/(len(residuosEmpírico)-1)\n",
    "desvEst"
   ]
  },
  {
   "cell_type": "code",
   "execution_count": 19,
   "id": "f4a8da15",
   "metadata": {},
   "outputs": [
    {
     "data": {
      "image/png": "[encoded data removed]",
      "text/plain": [
       "<Figure size 432x288 with 1 Axes>"
      ]
     },
     "metadata": {
      "needs_background": "light"
     },
     "output_type": "display_data"
    }
   ],
   "source": [
    "plt.plot(tiempo,ajusT)\n",
    "plt.scatter(tiempo,temperatura)\n",
    "plt.legend(['Modelo Empírico','Datos crudos'])\n",
    "plt.show()"
   ]
  },
  {
   "cell_type": "markdown",
   "id": "906a36bf",
   "metadata": {},
   "source": [
    "## Diagnósticos de los residuos para el modelo empírico\n",
    "\n",
    "### Prueba de normalidad"
   ]
  },
  {
   "cell_type": "code",
   "execution_count": 20,
   "id": "66454fae",
   "metadata": {},
   "outputs": [
    {
     "data": {
      "text/plain": [
       "0.40812407622659563"
      ]
     },
     "execution_count": 20,
     "metadata": {},
     "output_type": "execute_result"
    }
   ],
   "source": [
    "anderson(residuosEmpírico).statistic"
   ]
  },
  {
   "cell_type": "code",
   "execution_count": 21,
   "id": "95dc4eb0",
   "metadata": {},
   "outputs": [
    {
     "data": {
      "image/png": "[encoded data removed]",
      "text/plain": [
       "<Figure size 432x288 with 1 Axes>"
      ]
     },
     "metadata": {
      "needs_background": "light"
     },
     "output_type": "display_data"
    }
   ],
   "source": [
    "stats.probplot(residuosEmpírico,dist='norm',plot=plt)\n",
    "plt.title('Gráfica de probabilidad normal')\n",
    "plt.show()"
   ]
  },
  {
   "cell_type": "code",
   "execution_count": 22,
   "id": "b6633e50",
   "metadata": {},
   "outputs": [
    {
     "data": {
      "image/png": "[encoded data removed]",
      "text/plain": [
       "<Figure size 432x288 with 1 Axes>"
      ]
     },
     "metadata": {
      "needs_background": "light"
     },
     "output_type": "display_data"
    }
   ],
   "source": [
    "plt.hist(residuosEmpírico)\n",
    "plt.xlabel('Residuos')\n",
    "plt.ylabel('Frecuencia absoluta')\n",
    "plt.show()"
   ]
  },
  {
   "cell_type": "markdown",
   "id": "a32d1ca2",
   "metadata": {},
   "source": [
    "### Independencia de los residuos"
   ]
  },
  {
   "cell_type": "code",
   "execution_count": 23,
   "id": "b39853b3",
   "metadata": {},
   "outputs": [
    {
     "data": {
      "image/png": "[encoded data removed]",
      "text/plain": [
       "<Figure size 432x288 with 1 Axes>"
      ]
     },
     "metadata": {
      "needs_background": "light"
     },
     "output_type": "display_data"
    }
   ],
   "source": [
    "plt.plot(residuosEmpírico)\n",
    "plt.title('Residuos vs observación')\n",
    "plt.xlabel('Orden')\n",
    "plt.ylabel('Residuo')\n",
    "plt.show()"
   ]
  },
  {
   "cell_type": "markdown",
   "id": "170f20dc",
   "metadata": {},
   "source": [
    "### Residuos vs variable independiente"
   ]
  },
  {
   "cell_type": "code",
   "execution_count": 24,
   "id": "22471e25",
   "metadata": {},
   "outputs": [
    {
     "data": {
      "image/png": "[encoded data removed]",
      "text/plain": [
       "<Figure size 432x288 with 1 Axes>"
      ]
     },
     "metadata": {
      "needs_background": "light"
     },
     "output_type": "display_data"
    }
   ],
   "source": [
    "plt.plot(tiempo,residuosEmpírico)\n",
    "plt.title('Residuos vs tiempo')\n",
    "plt.xlabel('Tiempo')\n",
    "plt.ylabel('Residuo')\n",
    "plt.show()"
   ]
  },
  {
   "cell_type": "markdown",
   "id": "03034d83",
   "metadata": {},
   "source": [
    "# Modelo teórico\n",
    "\n",
    "## Balance de masa\n",
    "\n",
    "Se define como volumen de control la muestra de hidrocarburos, se tiene entonces que:\n",
    "\n",
    "$$V_{A}=F_{E}-F_{S}+V_{G}-V_{C}$$\n",
    "\n",
    "* Velocidad de acumulación, $V_{A}=0$\n",
    "* Flujo de entrada, $F_{E}=R$\n",
    "* Flujo de salida, $F_{S}=S$\n",
    "* Velocidad de generación, $V_{G}=0$\n",
    "* Velocidad de consumo, $V_{C}=0$"
   ]
  }
 ],
 "metadata": {
  "kernelspec": {
   "display_name": "Python 3",
   "language": "python",
   "name": "python3"
  },
  "language_info": {
   "codemirror_mode": {
    "name": "ipython",
    "version": 3
   },
   "file_extension": ".py",
   "mimetype": "text/x-python",
   "name": "python",
   "nbconvert_exporter": "python",
   "pygments_lexer": "ipython3",
   "version": "3.8.8"
  }
 },
 "nbformat": 4,
 "nbformat_minor": 5
}
