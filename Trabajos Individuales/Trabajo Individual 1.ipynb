{
 "cells": [
  {
   "cell_type": "markdown",
   "id": "f59a1a7a",
   "metadata": {},
   "source": [
    "# Solución Analítica\n",
    "\n",
    "## Análisis Inicial\n",
    "\n",
    "### Variables\n",
    "\n",
    "1. Variable Independiente: Tiempo t, en segundos.\n",
    "2. Variable Dependiente: Concentración en el tanque.\n",
    "3. Variables fijas: frecuencia, coeficiente de flujo de entrada, volumen de trabajo del tanque, concentración inicial y concentración del flujo de entrada, flujo de salida.\n",
    "\n",
    "### Balance\n",
    "\n",
    "$$V_A=F_E-F_S+V_G-V_C$$\n",
    "\n",
    "1. Velocidad de Acumulación= $\\frac{dM_{tanque}}{dt}=V\\frac{dC_{tanque}}{dt}$\n",
    "2. Flujo de entrada= $C_{E}F_{E}=C_{E}F_{0}\\left(1+\\sin{\\left(\\omega t\\right)}\\right)$\n",
    "3. Flujo de salida= $CF_{S}$\n",
    "4. Velocidad de generación= $0$\n",
    "5. Velocidad de consumo= $0$\n",
    "\n",
    "Para que el volumen se mantenga constante, el flujo volumétrico de salida debe ser igual al flujo volumétrico de entrada. Además, se está asumiendo que la concentración de salida es igual a la concentración en el tanque, entonces:\n",
    "\n",
    "## Planteamiento y solución de la ecuación diferencial\n",
    "\n",
    "$$V\\frac{dC_{tanque}}{dt}=C_{E}F_{0}\\left(1+\\sin{\\left(\\omega t\\right)}\\right)-CF_{0}\\left(1+\\sin{\\left(\\omega t\\right)}\\right)$$\n",
    "\n",
    "Reordenando:\n",
    "\n",
    "$$\\frac{dC}{dt}+\\frac{F_{0}}{V}\\left(1+\\sin{\\left(\\omega t\\right)}\\right)C=\\frac{C_{E}F_{0}}{V}\\left(1+\\sin{\\left(\\omega t\\right)}\\right)$$\n",
    "\n",
    "Para resolver esta ecuación, se toma el factor integrante:\n",
    "\n",
    "$$F_{I}=\\exp{\\left(\\int\\frac{F_{0}}{V}\\left(1+\\sin{\\left(\\omega t\\right)}\\right)dt\\right)}$$\n",
    "\n",
    "Tomando la integral por a parte, se tiene que:\n",
    "\n",
    "$$I=\\int\\frac{F_{0}}{V}\\left(1+\\sin{\\left(\\omega t\\right)}\\right)dt$$\n",
    "$$\\Rightarrow I=\\frac{F_{0}}{V}\\left(t-\\frac{\\cos{\\left(\\omega t\\right)}}{\\omega}\\right)$$\n",
    "\n",
    "Entonces, el factor integrante:\n",
    "\n",
    "$$F_{I}=\\exp{\\left(\\frac{F_{0}}{V}\\left(t-\\frac{\\cos{\\left(\\omega t\\right)}}{\\omega}\\right)\\right)}$$\n",
    "\n",
    "Multiplicando el factor integrante a ambos lados de la ecuación:\n",
    "\n",
    "$$\\exp{\\left(\\frac{F_{0}}{V}\\left(t-\\frac{\\cos{\\left(\\omega t\\right)}}{\\omega}\\right)\\right)}\\frac{dC}{dt}+\\frac{F_{0}}{V}\\left(1+\\sin{\\left(\\omega t\\right)}\\right)\\exp{\\left(\\frac{F_{0}}{V}\\left(t-\\frac{\\cos{\\left(\\omega t\\right)}}{\\omega}\\right)\\right)}C=\\frac{C_{E}F_{0}}{V}\\left(1+\\sin{\\left(\\omega t\\right)}\\right)\\exp{\\left(\\frac{F_{0}}{V}\\left(t-\\frac{\\cos{\\left(\\omega t\\right)}}{\\omega}\\right)\\right)}$$\n",
    "\n",
    "Esta ecuación diferencial se puede reescribir como:\n",
    "\n",
    "$$\\frac{d}{dt}\\left(C\\exp{\\left(\\frac{F_{0}}{V}\\left(t-\\frac{\\cos{\\left(\\omega t\\right)}}{\\omega}\\right)\\right)}\\right)=C_{E}\\frac{d}{dt}\\left(\\exp{\\left(\\frac{F_{0}}{V}\\left(t-\\frac{\\cos{\\left(\\omega t\\right)}}{\\omega}\\right)\\right)}\\right)$$\n",
    "\n",
    "Integrando a ambos lados se obtiene que:\n",
    "\n",
    "$$C\\exp{\\left(\\frac{F_{0}}{V}\\left(t-\\frac{\\cos{\\left(\\omega t\\right)}}{\\omega}\\right)\\right)}=C_{E}\\exp{\\left(\\frac{F_{0}}{V}\\left(t-\\frac{\\cos{\\left(\\omega t\\right)}}{\\omega}\\right)\\right)}+C_{1}$$\n",
    "$$C=C_{E}+C_{1}\\exp{\\left(-\\frac{F_{0}}{V}\\left(t-\\frac{\\cos{\\left(\\omega t\\right)}}{\\omega}\\right)\\right)}$$\n",
    "\n",
    "Para encontrar $C_{1}$, se recuerda que en $t=0$ $C=C_{0}$, entonces:\n",
    "\n",
    "$$C_0=C_{E}+C_{1}\\exp{\\left(\\frac{F_{0}}{\\omega V}\\right)}\\Rightarrow C_{1}=\\left(C_{0}-C_{E}\\right)\\exp{\\left(-\\frac{F_{0}}{\\omega V}\\right)}$$\n",
    "\n",
    "Entonces la solución queda de la forma:\n",
    "\n",
    "$$C=C_{E}+\\left(C_{0}-C_{E}\\right)\\exp{\\left(-\\frac{F_{0}}{V}\\left(t-\\frac{\\cos{\\left(\\omega t\\right)}}{\\omega}+\\frac{1}{\\omega}\\right)\\right)}$$\n",
    "\n",
    "## Utilizando los valores de las constantes del problema\n",
    "\n",
    "Para este problema se tiene que:\n",
    "\n",
    "- $V=500\\quad [\\textrm{m}^3]$\n",
    "- $F_{0}=2\\quad [\\textrm{m}^3/\\textrm{s}]$\n",
    "- $C_{0}=0.5\\quad [\\textrm{kmol}/\\textrm{m}^3]$\n",
    "- $C_{E}=2\\quad [\\textrm{kmol}/\\textrm{m}^3]$\n",
    "- $w=0.5\\quad [\\textrm{s}^{-1}]$\n",
    "\n",
    "Sustituyendo en la solución obtenida en la sección anterior:\n",
    "\n",
    "$$C=2-1.5\\exp{\\left(-\\frac{1}{250}\\left(t-2\\cos{\\left(0.5\\cdot t\\right)}+2\\right)\\right)}$$\n",
    "\n",
    "# Flujo de entrada y concentración en el tanque tras 100 s\n",
    "\n",
    "## Flujo de entrada\n",
    "\n",
    "Se recuerda que el flujo volumétrico de entrada está dado por:\n",
    "\n",
    "$$F(t)=F_{0}\\left(1+\\sin{\\left(\\omega t\\right)}\\right)$$\n",
    "\n",
    "Entonces:\n",
    "\n",
    "$$F(100)=2\\left(1+\\sin{\\left(0.5\\cdot100\\right)}\\right)$$\n",
    "$$\\Rightarrow F(100)=1.4753\\quad [\\textrm{m}^3/\\textrm{s}]$$\n",
    "\n",
    "## Concentración en el tanque\n",
    "\n",
    "Tomando la fórmula para la concentración, se tiene que:\n",
    "\n",
    "$$C(100)=2-1.5\\exp{\\left(-\\frac{1}{250}\\left(100-2\\cos{\\left(0.5\\cdot 100\\right)}+2\\right)\\right)}$$\n",
    "$$\\Rightarrow C(100)=0.9948\\quad [\\textrm{kmol}/\\textrm{m}^3]$$"
   ]
  },
  {
   "cell_type": "markdown",
   "id": "c7e9aed7",
   "metadata": {},
   "source": [
    "# Tiempo y flujo de entrada para una concentración dada"
   ]
  },
  {
   "cell_type": "code",
   "execution_count": 1,
   "id": "b5c9a2a6",
   "metadata": {},
   "outputs": [],
   "source": [
    "import numpy as np\n",
    "import matplotlib.pyplot as plt\n",
    "from copy import deepcopy\n",
    "from scipy.misc import derivative"
   ]
  },
  {
   "cell_type": "markdown",
   "id": "0f21a863",
   "metadata": {},
   "source": [
    "## Variables fijas"
   ]
  },
  {
   "cell_type": "code",
   "execution_count": 2,
   "id": "e9619642",
   "metadata": {},
   "outputs": [],
   "source": [
    "# Variables Fijas\n",
    "V=500 # m^3\n",
    "F0=2 # m^3/s\n",
    "C0=0.5 # kmol/m^3\n",
    "CE=2 # kmol/m^3\n",
    "omega=0.5 # s^-1\n",
    "Cf=1.5 # kmol/m^3"
   ]
  },
  {
   "cell_type": "markdown",
   "id": "d7a75635",
   "metadata": {},
   "source": [
    "## Cálculo del tiempo en el que se alcanza una concentración de 1.5 kmol/m^3"
   ]
  },
  {
   "cell_type": "markdown",
   "id": "eec2ad6f",
   "metadata": {},
   "source": [
    "### Función de concentración"
   ]
  },
  {
   "cell_type": "code",
   "execution_count": 3,
   "id": "d604d30c",
   "metadata": {},
   "outputs": [],
   "source": [
    "def Concentración(x):\n",
    "    \"\"\"\n",
    "    Función que toma el tiempo t y regresa el valor de la concentración en el tanque.\n",
    "    \n",
    "    Parámetros de entrada:\n",
    "    ----------------------\n",
    "    V: Volumen total del tanque. m^3\n",
    "    F0: Coeficiente del flujo de entrada. m^3/s\n",
    "    CE: Concentración de entrada. kmol/m^3\n",
    "    C0: Concentración inicial del tanque. kmol/m^3\n",
    "    omega: frecuencia. s^-1\n",
    "    \n",
    "    Salida:\n",
    "    -----------------------\n",
    "    CE+(C0-CE)*np.exp(-(F0/V)*(t-np.cos(omega*t)/omega)): La concentración en el tiempo t.\n",
    "    \"\"\"\n",
    "    return CE+(C0-CE)*np.exp(-(F0/V)*(x-np.cos(omega*x)/omega)-F0/omega/V)"
   ]
  },
  {
   "cell_type": "code",
   "execution_count": 4,
   "id": "56b2f779",
   "metadata": {},
   "outputs": [
    {
     "data": {
      "text/plain": [
       "0.9948016991395889"
      ]
     },
     "execution_count": 4,
     "metadata": {},
     "output_type": "execute_result"
    }
   ],
   "source": [
    "# Se evalúa en 100 s para comparar con el teórico\n",
    "Concentración(100)"
   ]
  },
  {
   "cell_type": "markdown",
   "id": "fdd513cf",
   "metadata": {},
   "source": [
    "### Función de cálculo de tiempo para una concentración dada"
   ]
  },
  {
   "cell_type": "code",
   "execution_count": 5,
   "id": "4b617160",
   "metadata": {},
   "outputs": [],
   "source": [
    "def TiempoConcentración(N,t0):\n",
    "    \"\"\"\n",
    "    Función que calcula el valor del tiempo t en el que se alcanza una concentración Cf utilizando Newton-Raphson.\n",
    "    \n",
    "    Parámetros de entrada:\n",
    "    ----------------------\n",
    "    N: número de iteraciones.\n",
    "    \n",
    "    Salidas:\n",
    "    ----------------------\n",
    "    t0: tiempo en el que se alcanza la concentración Cf.\n",
    "    error: porcentaje de error estimado para la concentración.\n",
    "    \"\"\"\n",
    "    n=0\n",
    "    t0=0\n",
    "    while n<=N:\n",
    "        n+=1 # número de iteración\n",
    "        C0=Concentración(t0)\n",
    "        dC0dt=derivative(Concentración,x0=t0)\n",
    "        t1=t0+(Cf-C0)/dC0dt\n",
    "        error=(t1-t0)*100/t1\n",
    "        t0=t1\n",
    "        if n%10==0: # se imprime cada 5 iteraciones para conocer el estado del sistema\n",
    "            print(n,\"iteraciones\",\"el tiempo estimado para alcanzar una concentración de\",Cf,\"kmol/m^3 es:\",t0,\"s, con un porcentaje de error del:\",error,\"%\",\"el valor de la concentración es:\",Concentración(t0))\n",
    "    return t0,error # se retorna el tiempo y el % de error"
   ]
  },
  {
   "cell_type": "code",
   "execution_count": 6,
   "id": "c5853fd6",
   "metadata": {
    "scrolled": true
   },
   "outputs": [
    {
     "name": "stdout",
     "output_type": "stream",
     "text": [
      "10 iteraciones el tiempo estimado para alcanzar una concentración de 1.5 kmol/m^3 es: -22701.139748320948 s, con un porcentaje de error del: -0.56942861045509 % el valor de la concentración es: -4.027740510982422e+39\n",
      "20 iteraciones el tiempo estimado para alcanzar una concentración de 1.5 kmol/m^3 es: -18599.086338541678 s, con un porcentaje de error del: -1.0458701734065574 % el valor de la concentración es: -3.0598406143725672e+32\n",
      "30 iteraciones el tiempo estimado para alcanzar una concentración de 1.5 kmol/m^3 es: -15593.40639634298 s, con un porcentaje de error del: -2.382225258767645 % el valor de la concentración es: -1.8353878383160136e+27\n",
      "40 iteraciones el tiempo estimado para alcanzar una concentración de 1.5 kmol/m^3 es: -12771.158683856485 s, con un porcentaje de error del: -1.023654567293095 % el valor de la concentración es: -2.277145664614646e+22\n",
      "50 iteraciones el tiempo estimado para alcanzar una concentración de 1.5 kmol/m^3 es: -4619.339070417922 s, con un porcentaje de error del: -2.7645730748135677 % el valor de la concentración es: -156444814.73515356\n",
      "60 iteraciones el tiempo estimado para alcanzar una concentración de 1.5 kmol/m^3 es: 275.2397038654621 s, con un porcentaje de error del: -2.12515781734153 % el valor de la concentración es: 1.5018915993900537\n",
      "70 iteraciones el tiempo estimado para alcanzar una concentración de 1.5 kmol/m^3 es: 270.728650527099 s, con un porcentaje de error del: 0.0008551647365636674 % el valor de la concentración es: 1.4999999424920305\n",
      "80 iteraciones el tiempo estimado para alcanzar una concentración de 1.5 kmol/m^3 es: 270.72869004419005 s, con un porcentaje de error del: 0.0 % el valor de la concentración es: 1.5\n",
      "90 iteraciones el tiempo estimado para alcanzar una concentración de 1.5 kmol/m^3 es: 270.72869004419005 s, con un porcentaje de error del: 0.0 % el valor de la concentración es: 1.5\n",
      "100 iteraciones el tiempo estimado para alcanzar una concentración de 1.5 kmol/m^3 es: 270.72869004419005 s, con un porcentaje de error del: 0.0 % el valor de la concentración es: 1.5\n"
     ]
    },
    {
     "data": {
      "text/plain": [
       "270.72869004419005"
      ]
     },
     "execution_count": 6,
     "metadata": {},
     "output_type": "execute_result"
    }
   ],
   "source": [
    "# Se calcula el tiempo en el que se alcanza la concentración Cf=1.5\n",
    "t0,error=TiempoConcentración(100,0)\n",
    "t0"
   ]
  },
  {
   "cell_type": "code",
   "execution_count": 7,
   "id": "fcf9b1f9",
   "metadata": {},
   "outputs": [
    {
     "data": {
      "text/plain": [
       "1.5"
      ]
     },
     "execution_count": 7,
     "metadata": {},
     "output_type": "execute_result"
    }
   ],
   "source": [
    "# Se comprueba si el tiempo obtenido arroja la concentración deseada\n",
    "Concentración(t0)"
   ]
  },
  {
   "cell_type": "markdown",
   "id": "cb1812d0",
   "metadata": {},
   "source": [
    "## Cálculo del flujo de entrada cuando la concentración es de 1.5 kmol/m^3"
   ]
  },
  {
   "cell_type": "markdown",
   "id": "baa8aedb",
   "metadata": {},
   "source": [
    "### Función de flujo de entrada"
   ]
  },
  {
   "cell_type": "code",
   "execution_count": 8,
   "id": "52905bc2",
   "metadata": {},
   "outputs": [],
   "source": [
    "def FlujoEntrada(t):\n",
    "    \"\"\"\n",
    "    Función que toma el tiempo t y regresa el valor del flujo de entrada.\n",
    "    \n",
    "    Parámetros de entrada:\n",
    "    -----------------------\n",
    "    F0: Coeficiente del flujo de entrada. m^3/s\n",
    "    omega: frecuencia. s^-1\n",
    "    \n",
    "    Salida:\n",
    "    valorF: valor del flujo de entrada en el tiempo t.\n",
    "    \"\"\"\n",
    "    valorF=F0*(1+np.sin(omega*t))\n",
    "    return valorF"
   ]
  },
  {
   "cell_type": "code",
   "execution_count": 9,
   "id": "7a3de6aa",
   "metadata": {},
   "outputs": [
    {
     "data": {
      "text/plain": [
       "1.4752502925921425"
      ]
     },
     "execution_count": 9,
     "metadata": {},
     "output_type": "execute_result"
    }
   ],
   "source": [
    "# Se evalúa en 100 s para comparar con el teórico\n",
    "FlujoEntrada(100)"
   ]
  },
  {
   "cell_type": "markdown",
   "id": "a35c2574",
   "metadata": {},
   "source": [
    "### Flujo de entrada cuando C=1.5 kmol/m^3"
   ]
  },
  {
   "cell_type": "code",
   "execution_count": 10,
   "id": "78202e42",
   "metadata": {},
   "outputs": [
    {
     "data": {
      "text/plain": [
       "1.4552491897170419"
      ]
     },
     "execution_count": 10,
     "metadata": {},
     "output_type": "execute_result"
    }
   ],
   "source": [
    "# Se calcula el flujo de entrada cuando C=1.5 kmol/m^3\n",
    "FlujoEntrada(t0)"
   ]
  }
 ],
 "metadata": {
  "kernelspec": {
   "display_name": "Python 3",
   "language": "python",
   "name": "python3"
  },
  "language_info": {
   "codemirror_mode": {
    "name": "ipython",
    "version": 3
   },
   "file_extension": ".py",
   "mimetype": "text/x-python",
   "name": "python",
   "nbconvert_exporter": "python",
   "pygments_lexer": "ipython3",
   "version": "3.8.8"
  }
 },
 "nbformat": 4,
 "nbformat_minor": 5
}
